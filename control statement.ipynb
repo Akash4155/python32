{
 "cells": [
  {
   "cell_type": "code",
   "execution_count": null,
   "id": "149455a2",
   "metadata": {},
   "outputs": [],
   "source": [
    "Python \n",
    "\n",
    "\n",
    "code \n",
    "\n",
    "\n",
    "line by line\n",
    "\n",
    "flow control statement or conditional statement"
   ]
  },
  {
   "cell_type": "code",
   "execution_count": null,
   "id": "0a36eba4",
   "metadata": {},
   "outputs": [],
   "source": [
    "simple if -- single condition \n",
    "if else two condition which opposite\n",
    "if else ladder\n",
    "nested if else"
   ]
  },
  {
   "cell_type": "code",
   "execution_count": null,
   "id": "60f76341",
   "metadata": {},
   "outputs": [],
   "source": [
    "if condition:\n",
    "    block of statement\n",
    "    sdgdsg\n",
    "    dfg\n",
    "    dfg\n",
    "    dfsg\n",
    "    dfg\n",
    "    dfg\n",
    "print(\"sdfsdafaf\")"
   ]
  },
  {
   "cell_type": "code",
   "execution_count": null,
   "id": "b1246065",
   "metadata": {},
   "outputs": [],
   "source": []
  },
  {
   "cell_type": "code",
   "execution_count": null,
   "id": "2cc716d8",
   "metadata": {},
   "outputs": [],
   "source": [
    "c/c++/java\n",
    "\n",
    "if condition\n",
    "{\n",
    "sdfsdf\n",
    "dfsdfsdf   \n",
    "    \n",
    "}"
   ]
  },
  {
   "cell_type": "code",
   "execution_count": 10,
   "id": "ec7f4537",
   "metadata": {},
   "outputs": [
    {
     "name": "stdout",
     "output_type": "stream",
     "text": [
      "Welcome to Covid check program:\n",
      "Enter the number:40\n",
      "Thanks for using our service\n"
     ]
    }
   ],
   "source": [
    "print(\"Welcome to Covid check program:\")\n",
    "age = int(input(\"Enter the number:\")) # type Casting\n",
    "if age>=45: # True\n",
    "    print(\"Please check your covid status\")\n",
    "    print(\"thanks\")\n",
    "print(\"Thanks for using our service\")"
   ]
  },
  {
   "cell_type": "code",
   "execution_count": null,
   "id": "169b75e9",
   "metadata": {},
   "outputs": [],
   "source": []
  },
  {
   "cell_type": "code",
   "execution_count": 14,
   "id": "23e7f78d",
   "metadata": {},
   "outputs": [
    {
     "name": "stdout",
     "output_type": "stream",
     "text": [
      "test.txt is processing\n",
      "thanks\n"
     ]
    }
   ],
   "source": [
    "filename  = 'test.txt'\n",
    "\n",
    "if filename.endswith('.txt'):\n",
    "    print(f\"{filename} is processing\")   \n",
    "print(\"thanks\")"
   ]
  },
  {
   "cell_type": "code",
   "execution_count": 15,
   "id": "ed1ee799",
   "metadata": {},
   "outputs": [],
   "source": [
    "#if-else"
   ]
  },
  {
   "cell_type": "code",
   "execution_count": null,
   "id": "6dccef78",
   "metadata": {},
   "outputs": [],
   "source": [
    "if condition: # True/False\n",
    "    block \n",
    "else:  # False/True\n",
    "    block"
   ]
  },
  {
   "cell_type": "code",
   "execution_count": 21,
   "id": "3ef50df9",
   "metadata": {},
   "outputs": [
    {
     "name": "stdout",
     "output_type": "stream",
     "text": [
      "Enter the number:100\n",
      "100 is positive number\n"
     ]
    }
   ],
   "source": [
    "a =  int(input(\"Enter the number:\"))\n",
    "\n",
    "if a>0:\n",
    "    print(f\"Given number {a} is positive number\")\n",
    "else:\n",
    "    print(f\"a is negative number\")"
   ]
  },
  {
   "cell_type": "code",
   "execution_count": 18,
   "id": "22bab78f",
   "metadata": {},
   "outputs": [],
   "source": [
    "#Note:else never have condition"
   ]
  },
  {
   "cell_type": "code",
   "execution_count": 22,
   "id": "9e7684cb",
   "metadata": {},
   "outputs": [],
   "source": [
    "#assingment \n",
    "check no even odd\n",
    "check given str is number \n",
    "check given str is al num\n",
    "check given str is alpha\n",
    "check given number sum is greater than 100\n",
    "check number is palindrom or not  -- string slicing\n",
    "check str is palindrom or not slicing"
   ]
  },
  {
   "cell_type": "code",
   "execution_count": null,
   "id": "16278099",
   "metadata": {},
   "outputs": [],
   "source": [
    "# if -else -ladder more than two condition"
   ]
  },
  {
   "cell_type": "code",
   "execution_count": 23,
   "id": "fd7e3499",
   "metadata": {},
   "outputs": [
    {
     "ename": "SyntaxError",
     "evalue": "invalid syntax (<ipython-input-23-2d5f74bb6d71>, line 4)",
     "output_type": "error",
     "traceback": [
      "\u001b[1;36m  File \u001b[1;32m\"<ipython-input-23-2d5f74bb6d71>\"\u001b[1;36m, line \u001b[1;32m4\u001b[0m\n\u001b[1;33m    block:\u001b[0m\n\u001b[1;37m          ^\u001b[0m\n\u001b[1;31mSyntaxError\u001b[0m\u001b[1;31m:\u001b[0m invalid syntax\n"
     ]
    }
   ],
   "source": [
    "if condition1:\n",
    "    block\n",
    "elif condition2:\n",
    "    block:\n",
    "elif condition3:\n",
    "    block \n",
    "elif condition4:\n",
    "    block\n",
    "    |\n",
    "    |\n",
    "    |\n",
    "elif condition n:\n",
    "    block\n",
    "else:\n",
    "    default"
   ]
  },
  {
   "cell_type": "code",
   "execution_count": null,
   "id": "6b0e102d",
   "metadata": {},
   "outputs": [],
   "source": [
    "with example \n",
    "\n",
    "git session "
   ]
  },
  {
   "cell_type": "code",
   "execution_count": null,
   "id": "5b71790a",
   "metadata": {},
   "outputs": [],
   "source": []
  },
  {
   "cell_type": "code",
   "execution_count": null,
   "id": "39fdc875",
   "metadata": {},
   "outputs": [],
   "source": []
  },
  {
   "cell_type": "code",
   "execution_count": null,
   "id": "78de2c23",
   "metadata": {},
   "outputs": [],
   "source": []
  }
 ],
 "metadata": {
  "kernelspec": {
   "display_name": "Python 3",
   "language": "python",
   "name": "python3"
  },
  "language_info": {
   "codemirror_mode": {
    "name": "ipython",
    "version": 3
   },
   "file_extension": ".py",
   "mimetype": "text/x-python",
   "name": "python",
   "nbconvert_exporter": "python",
   "pygments_lexer": "ipython3",
   "version": "3.8.8"
  }
 },
 "nbformat": 4,
 "nbformat_minor": 5
}
